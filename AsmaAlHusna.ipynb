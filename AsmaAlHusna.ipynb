{
  "nbformat": 4,
  "nbformat_minor": 0,
  "metadata": {
    "colab": {
      "name": "AsmaAlHusna.ipynb",
      "provenance": [],
      "authorship_tag": "ABX9TyMYEpFU4aqEMmQwmxOq+UWe",
      "include_colab_link": true
    },
    "kernelspec": {
      "name": "python3",
      "display_name": "Python 3"
    }
  },
  "cells": [
    {
      "cell_type": "markdown",
      "metadata": {
        "id": "view-in-github",
        "colab_type": "text"
      },
      "source": [
        "<a href=\"https://colab.research.google.com/github/madnoh/Work-in-Progress/blob/master/AsmaAlHusna.ipynb\" target=\"_parent\"><img src=\"https://colab.research.google.com/assets/colab-badge.svg\" alt=\"Open In Colab\"/></a>"
      ]
    },
    {
      "cell_type": "code",
      "metadata": {
        "id": "85lflOYUPFuX"
      },
      "source": [
        "from requests import get\n",
        "import time\n",
        "import pandas as pd"
      ],
      "execution_count": 2,
      "outputs": []
    },
    {
      "cell_type": "code",
      "metadata": {
        "id": "GREh8N8tkwc1",
        "outputId": "866cc9f7-a10b-40b3-807e-f1c62990f9b4",
        "colab": {
          "base_uri": "https://localhost:8080/",
          "height": 34
        }
      },
      "source": [
        "from google.colab import drive\n",
        "drive.mount('/content/gdrive')"
      ],
      "execution_count": 3,
      "outputs": [
        {
          "output_type": "stream",
          "text": [
            "Mounted at /content/gdrive\n"
          ],
          "name": "stdout"
        }
      ]
    },
    {
      "cell_type": "code",
      "metadata": {
        "id": "lqlSQUc2QYq7"
      },
      "source": [
        "allNames = []"
      ],
      "execution_count": 4,
      "outputs": []
    },
    {
      "cell_type": "markdown",
      "metadata": {
        "id": "23P7c8v4NeZq"
      },
      "source": [
        "Source of API: https://aladhan.com/asma-al-husna-api\n",
        "Source of Malay translation: https://www.malaysiatercinta.com/2019/02/asma-ul-husna-99-nama-allah-dan-makna.html"
      ]
    },
    {
      "cell_type": "code",
      "metadata": {
        "id": "UVCo4MhkPcun"
      },
      "source": [
        "for i in range(1,100):\n",
        "  url = f\"http://api.aladhan.com/asmaAlHusna/{i}\"\n",
        "  r = get(url).json()\n",
        "  time.sleep(1)\n",
        "  info = r['data'][0]\n",
        "  name = info['name']\n",
        "  transliteration = info['transliteration']\n",
        "  number = info['number']\n",
        "  meaning = info['en']['meaning']\n",
        "  nameList = {\n",
        "      'number': number,\n",
        "      'name': name,\n",
        "      'transliteration': transliteration,\n",
        "      'meaning': meaning\n",
        "  }\n",
        "  allNames.append(nameList)\n",
        "  \n"
      ],
      "execution_count": 5,
      "outputs": []
    },
    {
      "cell_type": "code",
      "metadata": {
        "id": "Mi8U1znGPzxy"
      },
      "source": [
        "df = pd.DataFrame.from_dict(allNames)\n",
        "df.to_csv('/content/gdrive/My Drive/Colab Notebooks/asmaalhusna.csv', index=False)\n"
      ],
      "execution_count": 6,
      "outputs": []
    }
  ]
}